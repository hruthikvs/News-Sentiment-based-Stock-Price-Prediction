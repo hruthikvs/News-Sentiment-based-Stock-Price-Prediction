{
 "cells": [
  {
   "cell_type": "markdown",
   "id": "5eda589c-f0d1-405e-95c8-1b7c90afb4e9",
   "metadata": {},
   "source": [
    "<font color='#51624F' size=\"10\">Maruti Stock Sentiment Analysis \n",
    "    \n",
    "    \n",
    "<b> Headline Data : </b> Headlines from MoneyControl News website\n",
    "<b> Stock Price Data </b>: Yahoo finance stock price data for years 2020-2021\n",
    "    "
   ]
  },
  {
   "cell_type": "code",
   "execution_count": null,
   "id": "b3e515d5-98f8-424c-a60e-3c07ceb527e2",
   "metadata": {},
   "outputs": [
    {
     "name": "stdout",
     "output_type": "stream",
     "text": [
      "Requirement already satisfied: beautifulsoup4 in c:\\users\\hruthik v s\\desktop\\spice\\venv\\lib\\site-packages (4.10.0)\n",
      "Requirement already satisfied: soupsieve>1.2 in c:\\users\\hruthik v s\\desktop\\spice\\venv\\lib\\site-packages (from beautifulsoup4) (2.2.1)\n"
     ]
    }
   ],
   "source": [
    "! pip install beautifulsoup4                   "
   ]
  },
  {
   "cell_type": "code",
   "execution_count": null,
   "id": "6aa180d6-5aaa-434a-b107-d6fb85bc5968",
   "metadata": {},
   "outputs": [
    {
     "name": "stdout",
     "output_type": "stream",
     "text": [
      "Requirement already satisfied: requests in c:\\users\\hruthik v s\\desktop\\spice\\venv\\lib\\site-packages (2.26.0)\n",
      "Requirement already satisfied: charset-normalizer~=2.0.0; python_version >= \"3\" in c:\\users\\hruthik v s\\desktop\\spice\\venv\\lib\\site-packages (from requests) (2.0.7)\n",
      "Requirement already satisfied: idna<4,>=2.5; python_version >= \"3\" in c:\\users\\hruthik v s\\desktop\\spice\\venv\\lib\\site-packages (from requests) (3.3)\n",
      "Requirement already satisfied: certifi>=2017.4.17 in c:\\users\\hruthik v s\\desktop\\spice\\venv\\lib\\site-packages (from requests) (2021.10.8)\n",
      "Requirement already satisfied: urllib3<1.27,>=1.21.1 in c:\\users\\hruthik v s\\desktop\\spice\\venv\\lib\\site-packages (from requests) (1.26.7)\n"
     ]
    }
   ],
   "source": [
    "! pip install requests                       "
   ]
  },
  {
   "cell_type": "code",
   "execution_count": null,
   "id": "12921316-0e8b-46ee-8492-787784d9554d",
   "metadata": {},
   "outputs": [
    {
     "name": "stdout",
     "output_type": "stream",
     "text": [
      "Requirement already satisfied: sklearn in c:\\users\\hruthik v s\\desktop\\spice\\venv\\lib\\site-packages (0.0)\n",
      "Requirement already satisfied: scikit-learn in c:\\users\\hruthik v s\\desktop\\spice\\venv\\lib\\site-packages (from sklearn) (1.0)\n",
      "Requirement already satisfied: joblib>=0.11 in c:\\users\\hruthik v s\\desktop\\spice\\venv\\lib\\site-packages (from scikit-learn->sklearn) (1.1.0)\n",
      "Requirement already satisfied: scipy>=1.1.0 in c:\\users\\hruthik v s\\desktop\\spice\\venv\\lib\\site-packages (from scikit-learn->sklearn) (1.7.1)\n",
      "Requirement already satisfied: threadpoolctl>=2.0.0 in c:\\users\\hruthik v s\\desktop\\spice\\venv\\lib\\site-packages (from scikit-learn->sklearn) (3.0.0)\n",
      "Requirement already satisfied: numpy>=1.14.6 in c:\\users\\hruthik v s\\desktop\\spice\\venv\\lib\\site-packages (from scikit-learn->sklearn) (1.18.2)\n"
     ]
    }
   ],
   "source": [
    "! pip install sklearn                 "
   ]
  },
  {
   "cell_type": "code",
   "execution_count": null,
   "id": "7ccc45a3-ceeb-4add-bdaa-345ad8d0ea20",
   "metadata": {},
   "outputs": [
    {
     "name": "stdout",
     "output_type": "stream",
     "text": [
      "Requirement already satisfied: pandas in c:\\users\\hruthik v s\\desktop\\spice\\venv\\lib\\site-packages (1.3.4)\n",
      "Requirement already satisfied: pytz>=2017.3 in c:\\users\\hruthik v s\\desktop\\spice\\venv\\lib\\site-packages (from pandas) (2021.3)\n",
      "Requirement already satisfied: python-dateutil>=2.7.3 in c:\\users\\hruthik v s\\desktop\\spice\\venv\\lib\\site-packages (from pandas) (2.8.1)\n",
      "Requirement already satisfied: numpy>=1.17.3; platform_machine != \"aarch64\" and platform_machine != \"arm64\" and python_version < \"3.10\" in c:\\users\\hruthik v s\\desktop\\spice\\venv\\lib\\site-packages (from pandas) (1.18.2)\n",
      "Requirement already satisfied: six>=1.5 in c:\\users\\hruthik v s\\desktop\\spice\\venv\\lib\\site-packages (from python-dateutil>=2.7.3->pandas) (1.14.0)\n"
     ]
    }
   ],
   "source": [
    "! pip install pandas                "
   ]
  },
  {
   "cell_type": "code",
   "execution_count": null,
   "id": "048dba48-d329-46a7-804a-9d8cd2b31cdb",
   "metadata": {},
   "outputs": [
    {
     "name": "stdout",
     "output_type": "stream",
     "text": [
      "Requirement already satisfied: matplotlib in c:\\users\\hruthik v s\\desktop\\spice\\venv\\lib\\site-packages (3.2.1)\n",
      "Requirement already satisfied: python-dateutil>=2.1 in c:\\users\\hruthik v s\\desktop\\spice\\venv\\lib\\site-packages (from matplotlib) (2.8.1)\n",
      "Requirement already satisfied: numpy>=1.11 in c:\\users\\hruthik v s\\desktop\\spice\\venv\\lib\\site-packages (from matplotlib) (1.18.2)\n",
      "Requirement already satisfied: kiwisolver>=1.0.1 in c:\\users\\hruthik v s\\desktop\\spice\\venv\\lib\\site-packages (from matplotlib) (1.1.0)\n",
      "Requirement already satisfied: pyparsing!=2.0.4,!=2.1.2,!=2.1.6,>=2.0.1 in c:\\users\\hruthik v s\\desktop\\spice\\venv\\lib\\site-packages (from matplotlib) (2.4.6)\n",
      "Requirement already satisfied: cycler>=0.10 in c:\\users\\hruthik v s\\desktop\\spice\\venv\\lib\\site-packages (from matplotlib) (0.10.0)\n",
      "Requirement already satisfied: six>=1.5 in c:\\users\\hruthik v s\\desktop\\spice\\venv\\lib\\site-packages (from python-dateutil>=2.1->matplotlib) (1.14.0)\n",
      "Requirement already satisfied: setuptools in c:\\users\\hruthik v s\\desktop\\spice\\venv\\lib\\site-packages\\setuptools-40.8.0-py3.7.egg (from kiwisolver>=1.0.1->matplotlib) (40.8.0)\n"
     ]
    }
   ],
   "source": [
    "! pip install matplotlib              "
   ]
  },
  {
   "cell_type": "code",
   "execution_count": null,
   "id": "22273a6a-86d3-4e82-ac66-686604b381de",
   "metadata": {},
   "outputs": [],
   "source": [
    "import requests\n",
    "from bs4 import BeautifulSoup"
   ]
  },
  {
   "cell_type": "markdown",
   "id": "47f34698-a572-4246-bf9f-95cf548974b5",
   "metadata": {},
   "source": [
    "<font style  color=#BBB6A5 size=\"6\"> <b>Scraping News Headlines from MoneyControl"
   ]
  },
  {
   "cell_type": "code",
   "execution_count": null,
   "id": "fc98d554-4edb-4ef9-8698-8482aabab074",
   "metadata": {},
   "outputs": [
    {
     "name": "stdout",
     "output_type": "stream",
     "text": [
      "328\n"
     ]
    }
   ],
   "source": [
    "headers = {\n",
    "    'User-Agent': 'Mozilla/5.0 (Windows NT 10.0; Win64; x64) AppleWebKit/537.36 (KHTML, like Gecko) Chrome/94.0.4606.81 Safari/537.36'}\n",
    "\n",
    "\n",
    "\n",
    "\n",
    "maruti = []         # for storing a list of dictionaries MarutiHeadline with keys 'headline' and 'date'\n",
    "\n",
    "def getHeadline(year,page):\n",
    "    # URL of Money control page with 'page' and 'year' input from function parameters \n",
    "    \n",
    "    url = f\"https://www.moneycontrol.com/stocks/company_info/stock_news.php?sc_id=MU01&scat=&pageno={page}&next=0&durationType=Y&Year={year}&duration=1&news_type=\"\n",
    "\n",
    "    r = requests.get(url, headers=headers)                           #requesting the URL \n",
    "\n",
    "    soup = BeautifulSoup(r.text, 'html.parser')                       #creating BeautifulSoup object\n",
    "\n",
    "    #accessing all the Headline packets (containing headline,subheadline and date) from the given webpage \n",
    "    headPack = soup.find_all('div', {'class': 'MT15 PT10 PB10'})\n",
    "\n",
    "    #iterating through each headline packet to extract date and healdline text\n",
    "    for item in headPack:\n",
    "        \n",
    "        headline = item.text.replace(item.find('p', {'class': 'PT3 a_10dgry'}).text,' ')  #extracting full headline(main+sub-headline) without date\n",
    "        headline = headline.strip()          # removing \\n\n",
    "        date = item.find('p', {'class': 'PT3 a_10dgry'}).text        # extracting date column\n",
    "        #creating a dictionary with keys 'headline' and 'date'\n",
    "        MarutiHeadline = {\n",
    "        'headline':headline,\n",
    "        'date': date[date.index('|')+2:date.index('\\xa0|\\xa0')]   }        # trimming out excess content to get  only the date\n",
    "\n",
    "        #appending the dictionary to a list maruti\n",
    "        maruti.append(MarutiHeadline)\n",
    "    \n",
    "    return\n",
    "\n",
    "#iterating through all 7 pages of headlines for the year 2021\n",
    "for i in range(1,7):\n",
    "    getHeadline('2021',i)\n",
    "   \n",
    " #iterating through all 12 pages of headlines for the year 2020\n",
    "for i in range(1,12):\n",
    "    getHeadline('2020',i)\n",
    "\n",
    "#Comnverting Date to Number format  (Ex 21 Sep 2021 to 21-09-2021)\n",
    "for obje in maruti:\n",
    "    \n",
    "    date = obje.get('date')\n",
    "    \n",
    "    month = date[3:6]\n",
    "    monthofyear = ['Jan','Feb','Mar','Apr','May','Jun','Jul','Aug','Sep','Oct','Nov','Dec']\n",
    "    i = 1\n",
    "    for m in monthofyear:\n",
    "        if month == m and i<10:\n",
    "            obje['date']=date[0:2]+'-0'+str(i)+'-'+date[7:]\n",
    "            \n",
    "        if month == m and i>10:\n",
    "            obje['date']=date[0:2]+'-'+str(i)+'-'+date[7:]\n",
    "        \n",
    "        i+=1\n",
    "\n",
    "\n",
    "        \n",
    "        \n",
    "print(len(maruti))\n",
    "    \n",
    "      "
   ]
  },
  {
   "cell_type": "markdown",
   "id": "da195c1c-1ed9-4f15-a71e-6492ce87eaac",
   "metadata": {
    "tags": []
   },
   "source": [
    "<font color= #AEBEA1 size=\"6\"> <b>NLP Model "
   ]
  },
  {
   "cell_type": "code",
   "execution_count": null,
   "id": "c7684c17-10a1-449b-a950-e42fd0c5138f",
   "metadata": {},
   "outputs": [],
   "source": [
    "import pandas as pd"
   ]
  },
  {
   "cell_type": "code",
   "execution_count": null,
   "id": "7d623197-08f7-4f06-ae71-98d5882a8669",
   "metadata": {},
   "outputs": [],
   "source": [
    "df=pd.read_csv('MARUTI.NS.csv', encoding = \"ISO-8859-1\")"
   ]
  },
  {
   "cell_type": "markdown",
   "id": "06946b5c-1726-469a-8baf-0c8c5a210f55",
   "metadata": {},
   "source": [
    "The Stock data downloaded from Yahoo finance and a value column is added with \n",
    "\n",
    "<b>Value = 1 </b>, when stock price increases from previous day\n",
    "\n",
    "<b>Value = 0 </b>, when stock price decreases from previous day\n",
    "\n",
    "The NLP model will be trained on this output data set , and this model, when trained accurately, will output 1, when headline text indicates stock price increase and 0 if headline text indicates stock price decrease."
   ]
  },
  {
   "cell_type": "code",
   "execution_count": null,
   "id": "4b1b5888-51c3-4f47-9663-32fedaf8fc84",
   "metadata": {},
   "outputs": [
    {
     "data": {
      "text/html": [
       "<div>\n",
       "<style scoped>\n",
       "    .dataframe tbody tr th:only-of-type {\n",
       "        vertical-align: middle;\n",
       "    }\n",
       "\n",
       "    .dataframe tbody tr th {\n",
       "        vertical-align: top;\n",
       "    }\n",
       "\n",
       "    .dataframe thead th {\n",
       "        text-align: right;\n",
       "    }\n",
       "</style>\n",
       "<table border=\"1\" class=\"dataframe\">\n",
       "  <thead>\n",
       "    <tr style=\"text-align: right;\">\n",
       "      <th></th>\n",
       "      <th>Date</th>\n",
       "      <th>Open</th>\n",
       "      <th>Value</th>\n",
       "    </tr>\n",
       "  </thead>\n",
       "  <tbody>\n",
       "    <tr>\n",
       "      <th>0</th>\n",
       "      <td>17-10-2019</td>\n",
       "      <td>6977.000000</td>\n",
       "      <td>1</td>\n",
       "    </tr>\n",
       "    <tr>\n",
       "      <th>1</th>\n",
       "      <td>18-10-2019</td>\n",
       "      <td>7081.299805</td>\n",
       "      <td>1</td>\n",
       "    </tr>\n",
       "    <tr>\n",
       "      <th>2</th>\n",
       "      <td>22-10-2019</td>\n",
       "      <td>7333.000000</td>\n",
       "      <td>1</td>\n",
       "    </tr>\n",
       "    <tr>\n",
       "      <th>3</th>\n",
       "      <td>23-10-2019</td>\n",
       "      <td>7201.049805</td>\n",
       "      <td>0</td>\n",
       "    </tr>\n",
       "    <tr>\n",
       "      <th>4</th>\n",
       "      <td>24-10-2019</td>\n",
       "      <td>7460.000000</td>\n",
       "      <td>1</td>\n",
       "    </tr>\n",
       "  </tbody>\n",
       "</table>\n",
       "</div>"
      ],
      "text/plain": [
       "         Date         Open  Value \n",
       "0  17-10-2019  6977.000000       1\n",
       "1  18-10-2019  7081.299805       1\n",
       "2  22-10-2019  7333.000000       1\n",
       "3  23-10-2019  7201.049805       0\n",
       "4  24-10-2019  7460.000000       1"
      ]
     },
     "execution_count": 11,
     "metadata": {},
     "output_type": "execute_result"
    }
   ],
   "source": [
    "df.head()         # I have set the Value to 1 if the stock increased from previous day, and 0 if it had decreased from previous day"
   ]
  },
  {
   "cell_type": "code",
   "execution_count": null,
   "id": "377de579-0566-4a38-bd81-2eb2ffc14ac3",
   "metadata": {},
   "outputs": [],
   "source": [
    "#converting date to our required date format (%d-%m-%Y  String) and storing it in a list of strongs 'dateList' \n",
    "\n",
    "dateFormat = pd.to_datetime(df['Date'], dayfirst=True)    #converting the string column to pandas date format \n",
    "\n",
    "dateList = dateFormat.dt.strftime('%d-%m-%Y')   #converting pandas date format back into required string format\n"
   ]
  },
  {
   "cell_type": "code",
   "execution_count": null,
   "id": "d1f5f737-f8a3-4120-be3b-7351623ea225",
   "metadata": {},
   "outputs": [],
   "source": [
    "\n",
    "#newDictionary of date vs words\n",
    "newDict={}\n",
    "for obj in maruti:\n",
    "    \n",
    "    newDict[obj['date'] ] = ''\n",
    "\n",
    "    \n",
    "#appending all the headlines belonging to a particular date into a single healdine and storing it in a dictionary with keys = \n",
    "for obj in maruti:\n",
    "    \n",
    "     newDict[obj['date'] ] = newDict[obj['date'] ]+' '+ (obj['headline']) \n",
    "        \n",
    "        \n",
    "newDictTuple = [(k, v) for k, v in newDict.items()]        # converting the Dictionary newDict into a list of tuples for manipulation\n",
    "headlinelist = []        \n",
    "\n",
    "\n",
    "stockpricelist=[]\n",
    "output = []\n",
    "\n",
    "\n",
    "''' Headline articles are not present for all the days of the week, hence ,\n",
    "I have only taken considered stick prices on the days on which headline articles are written'''\n",
    "\n",
    "\n",
    "for l in newDictTuple:\n",
    "    \n",
    "    #removing special characters\n",
    "    string = l[1]\n",
    "    new_string = ''.join(char.lower() for char in string if char.isalnum() or char.isspace() )\n",
    "    headlinelist.append(new_string.replace(\"\\n\",\" \"))\n",
    "    \n",
    "    i=0\n",
    "    for date in dateList:\n",
    "        if(l[0]==date):\n",
    "            ind = i\n",
    "            break\n",
    "        i+=1\n",
    "        \n",
    "    output.append(df['Value '][ind])\n",
    "    stockpricelist.append(df['Open'][ind])\n"
   ]
  },
  {
   "cell_type": "markdown",
   "id": "e0cfdcf6-e63e-4748-b0d1-a8b82125df5b",
   "metadata": {},
   "source": []
  },
  {
   "cell_type": "code",
   "execution_count": null,
   "id": "637f1f6f-4f30-4cfc-a338-e5dc71240d49",
   "metadata": {},
   "outputs": [],
   "source": [
    "\n",
    "from sklearn.feature_extraction.text import CountVectorizer\n",
    "from sklearn.ensemble import RandomForestClassifier"
   ]
  },
  {
   "cell_type": "code",
   "execution_count": null,
   "id": "a6ea97b3-0230-4c8e-9bc6-50eb21e57c7f",
   "metadata": {},
   "outputs": [],
   "source": [
    "# implement BAG OF WORDS\n",
    "trainList = headlinelist[0:200]\n",
    "testList = headlinelist[200:235]\n",
    "\n",
    "countvector=CountVectorizer(ngram_range=(2,2))\n",
    "traindataset=countvector.fit_transform(trainList)"
   ]
  },
  {
   "cell_type": "code",
   "execution_count": null,
   "id": "43bfe3d9-b135-4ceb-8043-4c9023ab9269",
   "metadata": {},
   "outputs": [
    {
     "data": {
      "text/plain": [
       "RandomForestClassifier(criterion='entropy', n_estimators=200)"
      ]
     },
     "execution_count": 16,
     "metadata": {},
     "output_type": "execute_result"
    }
   ],
   "source": [
    "\n",
    "# implementing RandomForest Classifier\n",
    "randomclassifier=RandomForestClassifier(n_estimators=200,criterion='entropy')\n",
    "randomclassifier.fit(traindataset,output[0:200])"
   ]
  },
  {
   "cell_type": "code",
   "execution_count": null,
   "id": "650e50ca-a8e0-4256-b187-617649cc2745",
   "metadata": {},
   "outputs": [],
   "source": [
    "\n",
    "test_dataset = countvector.transform(testList)\n",
    "predictions = randomclassifier.predict(test_dataset)"
   ]
  },
  {
   "cell_type": "code",
   "execution_count": null,
   "id": "d667dfae-9cd2-44b2-b62f-18716cec109c",
   "metadata": {},
   "outputs": [],
   "source": [
    "## Import library to check accuracy\n",
    "from sklearn.metrics import classification_report,confusion_matrix,accuracy_score"
   ]
  },
  {
   "cell_type": "code",
   "execution_count": null,
   "id": "ad4c852d-e441-408f-9863-656c78264e9e",
   "metadata": {},
   "outputs": [
    {
     "name": "stdout",
     "output_type": "stream",
     "text": [
      "[[19  3]\n",
      " [13  0]]\n",
      "0.5428571428571428\n",
      "              precision    recall  f1-score   support\n",
      "\n",
      "           0       0.59      0.86      0.70        22\n",
      "           1       0.00      0.00      0.00        13\n",
      "\n",
      "    accuracy                           0.54        35\n",
      "   macro avg       0.30      0.43      0.35        35\n",
      "weighted avg       0.37      0.54      0.44        35\n",
      "\n"
     ]
    }
   ],
   "source": [
    "matrix=confusion_matrix(output[200:235],predictions)\n",
    "print(matrix)\n",
    "score=accuracy_score(output[200:235],predictions)\n",
    "print(score)\n",
    "report=classification_report(output[200:235],predictions)\n",
    "print(report)"
   ]
  },
  {
   "cell_type": "markdown",
   "id": "0c4f240c-1592-4b2a-aa67-5aa8d780efbd",
   "metadata": {},
   "source": [
    "<font color=#A2B4AC size=6> <b>Plotting\n"
   ]
  },
  {
   "cell_type": "code",
   "execution_count": null,
   "id": "4a666ad5-0c72-4926-add5-45822509d410",
   "metadata": {},
   "outputs": [],
   "source": [
    "import matplotlib.pyplot as plt"
   ]
  },
  {
   "cell_type": "code",
   "execution_count": null,
   "id": "ae073cdd-9392-49c3-8a36-994165c15991",
   "metadata": {},
   "outputs": [],
   "source": [
    "# prediction for entire dataset of headlines\n",
    "test_transform = headlinelist\n",
    "test_dataset = countvector.transform(test_transform)\n",
    "predictionTotal = randomclassifier.predict(test_dataset)"
   ]
  },
  {
   "cell_type": "code",
   "execution_count": null,
   "id": "5eb42363-fb8b-4424-b80c-7bdfa234fbe7",
   "metadata": {},
   "outputs": [],
   "source": [
    "newdateList=[]\n",
    "for l in newDictTuple:\n",
    "    newdateList.append(l[0])"
   ]
  },
  {
   "cell_type": "code",
   "execution_count": 25,
   "id": "b31dd5ce-8466-4f03-af63-48a0695e838d",
   "metadata": {},
   "outputs": [
    {
     "data": {
      "image/png": "[encoded data removed]",
      "text/plain": [
       "<Figure size 432x288 with 1 Axes>"
      ]
     },
     "metadata": {
      "needs_background": "light"
     },
     "output_type": "display_data"
    },
    {
     "data": {
      "image/png": "[encoded data removed]",
      "text/plain": [
       "<Figure size 432x288 with 1 Axes>"
      ]
     },
     "metadata": {
      "needs_background": "light"
     },
     "output_type": "display_data"
    },
    {
     "data": {
      "image/png": "[encoded data removed]",
      "text/plain": [
       "<Figure size 432x288 with 1 Axes>"
      ]
     },
     "metadata": {
      "needs_background": "light"
     },
     "output_type": "display_data"
    }
   ],
   "source": [
    "normalizedStockprice = [ i/1000 for i in stockpricelist]\n",
    "\n",
    "\n",
    "xVals = range(len(normalizedStockprice))\n",
    "plt.figure(0)\n",
    "plt.plot(xVals, normalizedStockprice)\n",
    "plt.plot(xVals, predictionTotal)\n",
    "plt.xticks(xVals, newdateList)\n",
    "plt.ylabel('Stock Price')\n",
    "plt.xlabel('Date')\n",
    "plt.legend(['Stock Price','Sentiment Value(scaled to 1000)'])\n",
    "plt.yticks([i for i in range(9)],[1000*i for i in range(9)] )\n",
    "\n",
    "plt.figure(1) \n",
    "plt.plot(xVals, normalizedStockprice)\n",
    "plt.plot(xVals, predictionTotal)\n",
    "plt.xticks(xVals, newdateList)\n",
    "plt.yticks([i for i in range(9)],[1000*i for i in range(9)] )\n",
    "plt.ylabel('Stock Price')\n",
    "plt.xlabel('Date')\n",
    "plt.xlabel('Date')\n",
    "plt.legend(['Stock Price','Sentiment Value(scaled to 1000)'])\n",
    "plt.xlim([100, 150])  \n",
    "plt.show()\n",
    "\n",
    "plt.figure(2)\n",
    "plt.plot(xVals, normalizedStockprice)\n",
    "plt.plot(xVals, predictionTotal)\n",
    "plt.xticks(xVals, newdateList)\n",
    "plt.yticks([i for i in range(9)],[1000*i for i in range(9)] )\n",
    "plt.xlim([175, 180])  \n",
    "plt.ylabel('Stock Price')\n",
    "plt.xlabel('Date')\n",
    "plt.xlabel('Date')\n",
    "plt.legend(['Stock Price','Sentiment Value(scaled to 1000)'])\n",
    "plt.show()\n",
    "\n"
   ]
  }
 ],
 "metadata": {
  "kernelspec": {
   "display_name": "Python 3",
   "language": "python",
   "name": "python3"
  },
  "language_info": {
   "codemirror_mode": {
    "name": "ipython",
    "version": 3
   },
   "file_extension": ".py",
   "mimetype": "text/x-python",
   "name": "python",
   "nbconvert_exporter": "python",
   "pygments_lexer": "ipython3",
   "version": "3.8.8"
  }
 },
 "nbformat": 4,
 "nbformat_minor": 5
}
